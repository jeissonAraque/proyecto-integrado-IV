{
 "cells": [
  {
   "cell_type": "code",
   "execution_count": 5,
   "metadata": {},
   "outputs": [],
   "source": [
    "from typing import Dict\n",
    "\n",
    "import requests\n",
    "from pandas import DataFrame, read_csv, read_json, to_datetime"
   ]
  },
  {
   "cell_type": "code",
   "execution_count": 6,
   "metadata": {},
   "outputs": [
    {
     "name": "stdout",
     "output_type": "stream",
     "text": [
      "Código de estado: 200\n",
      "Contenido de la respuesta: [{\"date\":\"2025-01-01\",\"localName\":\"Confraternização Universal\",\"name\":\"New Year's Day\",\"countryCode\":\"BR\",\"fixed\":false,\"global\":true,\"counties\":null,\"launchYear\":null,\"types\":[\"Public\"]},{\"date\":\"2025-03-03\",\"localName\":\"Carnaval\",\"name\":\"Carnival\",\"countryCode\":\"BR\",\"fixed\":false,\"global\":true,\"counties\":null,\"launchYear\":null,\"types\":[\"Bank\",\"Optional\"]},{\"date\":\"2025-03-04\",\"localName\":\"Carnaval\",\"name\":\"Carnival\",\"countryCode\":\"BR\",\"fixed\":false,\"global\":true,\"counties\":null,\"launchYear\":null,\"types\":[\"Bank\",\"Optional\"]},{\"date\":\"2025-04-18\",\"localName\":\"Sexta-feira Santa\",\"name\":\"Good Friday\",\"countryCode\":\"BR\",\"fixed\":false,\"global\":true,\"counties\":null,\"launchYear\":null,\"types\":[\"Public\"]},{\"date\":\"2025-04-20\",\"localName\":\"Domingo de Páscoa\",\"name\":\"Easter Sunday\",\"countryCode\":\"BR\",\"fixed\":false,\"global\":true,\"counties\":null,\"launchYear\":null,\"types\":[\"Public\"]},{\"date\":\"2025-04-21\",\"localName\":\"Dia de Tiradentes\",\"name\":\"Tiradentes\",\"countryCode\":\"BR\",\"fixed\":false,\"global\":true,\"counties\":null,\"launchYear\":null,\"types\":[\"Public\"]},{\"date\":\"2025-05-01\",\"localName\":\"Dia do Trabalhador\",\"name\":\"Labour Day\",\"countryCode\":\"BR\",\"fixed\":false,\"global\":true,\"counties\":null,\"launchYear\":null,\"types\":[\"Public\"]},{\"date\":\"2025-06-19\",\"localName\":\"Corpus Christi\",\"name\":\"Corpus Christi\",\"countryCode\":\"BR\",\"fixed\":false,\"global\":true,\"counties\":null,\"launchYear\":null,\"types\":[\"Public\"]},{\"date\":\"2025-07-09\",\"localName\":\"Revolução Constitucionalista de 1932\",\"name\":\"Constitutionalist Revolution of 1932\",\"countryCode\":\"BR\",\"fixed\":false,\"global\":false,\"counties\":[\"BR-SP\"],\"launchYear\":null,\"types\":[\"Public\"]},{\"date\":\"2025-09-07\",\"localName\":\"Dia da Independência\",\"name\":\"Independence Day\",\"countryCode\":\"BR\",\"fixed\":false,\"global\":true,\"counties\":null,\"launchYear\":null,\"types\":[\"Public\"]},{\"date\":\"2025-10-12\",\"localName\":\"Nossa Senhora Aparecida\",\"name\":\"Our Lady of Aparecida\",\"countryCode\":\"BR\",\"fixed\":false,\"global\":true,\"counties\":null,\"launchYear\":null,\"types\":[\"Public\"]},{\"date\":\"2025-11-02\",\"localName\":\"Dia de Finados\",\"name\":\"All Souls' Day\",\"countryCode\":\"BR\",\"fixed\":false,\"global\":true,\"counties\":null,\"launchYear\":null,\"types\":[\"Public\"]},{\"date\":\"2025-11-15\",\"localName\":\"Proclamação da República\",\"name\":\"Republic Proclamation Day\",\"countryCode\":\"BR\",\"fixed\":false,\"global\":true,\"counties\":null,\"launchYear\":null,\"types\":[\"Public\"]},{\"date\":\"2025-11-20\",\"localName\":\"Dia da Consciência Negra\",\"name\":\"Black Awareness Day\",\"countryCode\":\"BR\",\"fixed\":false,\"global\":true,\"counties\":null,\"launchYear\":null,\"types\":[\"Public\"]},{\"date\":\"2025-12-25\",\"localName\":\"Natal\",\"name\":\"Christmas Day\",\"countryCode\":\"BR\",\"fixed\":false,\"global\":true,\"counties\":null,\"launchYear\":null,\"types\":[\"Public\"]}]\n"
     ]
    }
   ],
   "source": [
    "url = \"https://date.nager.at/api/v3/PublicHolidays/2025/BR\"\n",
    "response = requests.get(url)\n",
    "print(\"Código de estado:\", response.status_code)\n",
    "print(\"Contenido de la respuesta:\", response.text)"
   ]
  }
 ],
 "metadata": {
  "kernelspec": {
   "display_name": "analitica",
   "language": "python",
   "name": "python3"
  },
  "language_info": {
   "codemirror_mode": {
    "name": "ipython",
    "version": 3
   },
   "file_extension": ".py",
   "mimetype": "text/x-python",
   "name": "python",
   "nbconvert_exporter": "python",
   "pygments_lexer": "ipython3",
   "version": "3.12.3"
  }
 },
 "nbformat": 4,
 "nbformat_minor": 2
}
